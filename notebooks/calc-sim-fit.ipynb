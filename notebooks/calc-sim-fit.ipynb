{
 "cells": [
  {
   "cell_type": "code",
   "execution_count": 1,
   "metadata": {},
   "outputs": [],
   "source": [
    "import sys\n",
    "sys.path.append('../src')\n",
    "\n",
    "import numpy as np\n",
    "import joblib\n",
    "import matplotlib.pyplot as plt\n",
    "from astropy.coordinates import SkyCoord\n",
    "import scipy.optimize\n",
    "\n",
    "import simulation"
   ]
  },
  {
   "cell_type": "code",
   "execution_count": 2,
   "metadata": {},
   "outputs": [],
   "source": [
    "cerro_toco_atm_profile = np.loadtxt('../input-data/cerro_toco_atm_profile.txt')"
   ]
  },
  {
   "cell_type": "code",
   "execution_count": 3,
   "metadata": {},
   "outputs": [],
   "source": [
    "mag_vec = SkyCoord(-5.9, 21.2, frame='altaz', unit='deg')\n",
    "bc = 38.0\n",
    "bw = 5.7"
   ]
  },
  {
   "cell_type": "code",
   "execution_count": 4,
   "metadata": {},
   "outputs": [],
   "source": [
    "def run_calc(mag_diff, zenith):\n",
    "    simulator = simulation.AtmSim(22738, cerro_toco_atm_profile, 5200)\n",
    "    return simulator.calc_propagation_matrix_avg_band(bc - bw, bc + bw, 25, mag_diff, zenith)[3]"
   ]
  },
  {
   "cell_type": "code",
   "execution_count": 5,
   "metadata": {},
   "outputs": [],
   "source": [
    "az = np.arange(0, 360, 10)\n",
    "alt = np.linspace(30, 60, 13)\n",
    "alt_az = np.array(np.meshgrid(alt, az)).T\n",
    "alt_az = alt_az.reshape((alt_az.shape[0] * alt_az.shape[1], 2))\n",
    "\n",
    "obs_directions = SkyCoord(az=alt_az[:, 1], alt=alt_az[:, 0], frame=\"altaz\", unit=\"deg\")\n",
    "mag_diffs = mag_vec.separation(obs_directions).rad\n",
    "zeniths = np.deg2rad(90 - alt_az[:, 0])\n",
    "\n",
    "grid_scan = np.array(joblib.Parallel(n_jobs=10)(joblib.delayed(run_calc)(mag_diffs[i], zeniths[i]) for i in range(mag_diffs.size)))"
   ]
  },
  {
   "cell_type": "code",
   "execution_count": 6,
   "metadata": {},
   "outputs": [],
   "source": [
    "def fit(x, a, b, c, d):\n",
    "    zenith = np.pi / 2 - x[0]\n",
    "    az = x[1]\n",
    "    return a * np.tan(b * zenith) * np.cos(az - c) + d\n",
    "fit_results = scipy.optimize.curve_fit(fit, np.deg2rad(alt_az.T), grid_scan)"
   ]
  },
  {
   "cell_type": "code",
   "execution_count": 7,
   "metadata": {},
   "outputs": [
    {
     "data": {
      "text/plain": [
       "(array([ 1.10639594e-04,  9.84847471e-01, -1.02974426e-01,  4.18500536e-05]),\n",
       " array([[ 5.58519928e-15, -2.58829172e-11,  1.01329809e-19,\n",
       "         -1.02951228e-26],\n",
       "        [-2.58829172e-11,  1.24284560e-07, -5.11629354e-17,\n",
       "          1.38078722e-22],\n",
       "        [ 1.01329809e-19, -5.11629354e-17,  1.59254004e-08,\n",
       "          2.20757169e-19],\n",
       "        [-1.02951228e-26,  1.38078722e-22,  2.20757169e-19,\n",
       "          1.14521333e-16]]))"
      ]
     },
     "execution_count": 7,
     "metadata": {},
     "output_type": "execute_result"
    }
   ],
   "source": [
    "fit_results"
   ]
  },
  {
   "cell_type": "code",
   "execution_count": 8,
   "metadata": {},
   "outputs": [],
   "source": [
    "np.save('../result-data/fit-results.npy', fit_results[0])"
   ]
  },
  {
   "cell_type": "code",
   "execution_count": 9,
   "metadata": {},
   "outputs": [
    {
     "name": "stdout",
     "output_type": "stream",
     "text": [
      "maximum residual: 472 nK\n",
      "average residual: 196 nK\n"
     ]
    }
   ],
   "source": [
    "diffs = fit(np.deg2rad(alt_az.T), *fit_results[0]) - grid_scan\n",
    "print(f'maximum residual: {np.max(np.abs(diffs)) * 1e9:.0f} nK')\n",
    "print(f'average residual: {np.mean(np.abs(diffs)) * 1e9:.0f} nK')"
   ]
  }
 ],
 "metadata": {
  "kernelspec": {
   "display_name": "Python 3 (Anaconda)",
   "language": "python",
   "name": "python3-anaconda"
  },
  "language_info": {
   "codemirror_mode": {
    "name": "ipython",
    "version": 3
   },
   "file_extension": ".py",
   "mimetype": "text/x-python",
   "name": "python",
   "nbconvert_exporter": "python",
   "pygments_lexer": "ipython3",
   "version": "3.7.4"
  }
 },
 "nbformat": 4,
 "nbformat_minor": 4
}
